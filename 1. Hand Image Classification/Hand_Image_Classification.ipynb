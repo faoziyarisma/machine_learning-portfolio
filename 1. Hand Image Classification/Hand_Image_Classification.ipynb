{
  "nbformat": 4,
  "nbformat_minor": 0,
  "metadata": {
    "colab": {
      "provenance": []
    },
    "kernelspec": {
      "name": "python3",
      "display_name": "Python 3"
    },
    "language_info": {
      "name": "python"
    }
  },
  "cells": [
    {
      "cell_type": "markdown",
      "metadata": {
        "id": "NaTdK25NJx9b"
      },
      "source": [
        "Nama : Risma Faoziya\n",
        "\n",
        "Email : rismafaoziya@gmail.com\n",
        "\n",
        "Alamat : RT.01/04,Desa Sarwadadi,Kec.Kawunganten,Kab.Cilacap, Jawa Tengah\n",
        "\n",
        "Instansi : Universitas Diponegoro"
      ]
    },
    {
      "cell_type": "markdown",
      "source": [
        "# **Hand Image classification using CNN (Convolutional Neural Network).**\n",
        "\n",
        "This model classify hand image into 3 classes are rock, paper, and scissors. I used categorical crossentropy as the loss function, Adam as the optimizer, and accuracy as the metric. The model performed well and did not overfit, achieving 98.5% accuracy for train data and 98.75% accuracy for test data."
      ],
      "metadata": {
        "id": "DaUYyO5kz0NH"
      }
    },
    {
      "cell_type": "code",
      "metadata": {
        "id": "wnMPL7PUJya5"
      },
      "source": [
        "# Bagian import library python untuk machine learning\n",
        "import sklearn\n",
        "from sklearn import datasets\n",
        "from sklearn.model_selection import train_test_split\n",
        "import os\n",
        "import tensorflow as tf\n",
        "from tensorflow.keras.optimizers import RMSprop\n",
        "from tensorflow.keras.preprocessing.image import ImageDataGenerator\n"
      ],
      "execution_count": null,
      "outputs": []
    },
    {
      "cell_type": "code",
      "metadata": {
        "colab": {
          "base_uri": "https://localhost:8080/"
        },
        "id": "_CUEWmJ3M-yQ",
        "outputId": "42ceea4e-4a24-4ad8-c53e-9ec13dfb30a1"
      },
      "source": [
        "# menginstal split_folders\n",
        "!pip install split_folders"
      ],
      "execution_count": null,
      "outputs": [
        {
          "output_type": "stream",
          "text": [
            "Requirement already satisfied: split_folders in /usr/local/lib/python3.7/dist-packages (0.4.3)\n"
          ],
          "name": "stdout"
        }
      ]
    },
    {
      "cell_type": "code",
      "metadata": {
        "id": "nEwfHGLvKAm_",
        "colab": {
          "base_uri": "https://localhost:8080/"
        },
        "outputId": "e4447842-3905-4c0d-ad5d-9f09e13647d3"
      },
      "source": [
        "!wget --no-check-certificate \\\n",
        "  https://dicodingacademy.blob.core.windows.net/picodiploma/ml_pemula_academy/rockpaperscissors.zip \\\n",
        "  -O /tmp/rockpaperscissors.zip"
      ],
      "execution_count": null,
      "outputs": [
        {
          "output_type": "stream",
          "text": [
            "--2021-07-26 12:01:19--  https://dicodingacademy.blob.core.windows.net/picodiploma/ml_pemula_academy/rockpaperscissors.zip\n",
            "Resolving dicodingacademy.blob.core.windows.net (dicodingacademy.blob.core.windows.net)... 52.239.197.36\n",
            "Connecting to dicodingacademy.blob.core.windows.net (dicodingacademy.blob.core.windows.net)|52.239.197.36|:443... connected.\n",
            "HTTP request sent, awaiting response... 200 OK\n",
            "Length: 322873683 (308M) [application/zip]\n",
            "Saving to: ‘/tmp/rockpaperscissors.zip’\n",
            "\n",
            "/tmp/rockpapersciss 100%[===================>] 307.92M  5.66MB/s    in 77s     \n",
            "\n",
            "2021-07-26 12:02:37 (4.01 MB/s) - ‘/tmp/rockpaperscissors.zip’ saved [322873683/322873683]\n",
            "\n"
          ],
          "name": "stdout"
        }
      ]
    },
    {
      "cell_type": "code",
      "metadata": {
        "id": "rdM42lCyNnWm"
      },
      "source": [
        "# melakukan ekstraksi pada file zip\n",
        "import zipfile,os\n",
        "local_zip = '/tmp/rockpaperscissors.zip'\n",
        "zip_ref = zipfile.ZipFile(local_zip, 'r')\n",
        "zip_ref.extractall('/tmp')\n",
        "zip_ref.close()\n"
      ],
      "execution_count": null,
      "outputs": []
    },
    {
      "cell_type": "code",
      "metadata": {
        "colab": {
          "base_uri": "https://localhost:8080/"
        },
        "id": "JdBsLkMoOfE7",
        "outputId": "7b6373db-0880-472d-bb45-030e41e22573"
      },
      "source": [
        "# Mengecek isi dari direktori rockpaperscissors\n",
        "os.listdir('/tmp/rockpaperscissors')"
      ],
      "execution_count": null,
      "outputs": [
        {
          "output_type": "execute_result",
          "data": {
            "text/plain": [
              "['rps-cv-images',\n",
              " 'scissors',\n",
              " 'rock',\n",
              " 'val',\n",
              " 'README_rpc-cv-images.txt',\n",
              " 'train',\n",
              " 'paper']"
            ]
          },
          "metadata": {
            "tags": []
          },
          "execution_count": 50
        }
      ]
    },
    {
      "cell_type": "code",
      "metadata": {
        "colab": {
          "base_uri": "https://localhost:8080/"
        },
        "id": "206QFp4mO7n9",
        "outputId": "6c8f21c5-414d-41c8-abd0-9ae5c92749c0"
      },
      "source": [
        "# Mengecek isi dari direktori __MACOSX\n",
        "os.listdir('/tmp/__MACOSX')"
      ],
      "execution_count": null,
      "outputs": [
        {
          "output_type": "execute_result",
          "data": {
            "text/plain": [
              "['._rockpaperscissors', 'rockpaperscissors']"
            ]
          },
          "metadata": {
            "tags": []
          },
          "execution_count": 51
        }
      ]
    },
    {
      "cell_type": "code",
      "metadata": {
        "colab": {
          "base_uri": "https://localhost:8080/"
        },
        "id": "0wMZAXJ_Pn0f",
        "outputId": "72223fac-ee56-480e-9bf1-a9fff0e00961"
      },
      "source": [
        "# Mengcopy file data dari dan dikelompokan menjadi beberapa kelompok yaitu base_directory,train directory,dan validation_directory\n",
        "import splitfolders\n",
        "base_directory = '/tmp/rockpaperscissors/rps-cv-images'\n",
        "splitfolders.ratio(base_directory,output='/tmp/rockpaperscissors',seed=1337,ratio=(0.6,0.4))\n",
        "\n",
        "train_directory = os.path.join('/tmp/rockpaperscissors', 'train')\n",
        "validation_directory = os.path.join('/tmp/rockpaperscissors', 'val')"
      ],
      "execution_count": null,
      "outputs": [
        {
          "output_type": "stream",
          "text": [
            "Copying files: 2188 files [00:00, 3410.99 files/s]\n"
          ],
          "name": "stderr"
        }
      ]
    },
    {
      "cell_type": "code",
      "metadata": {
        "id": "dnkAvUTvRFyX"
      },
      "source": [
        "# Memecah base_directory menjadi 3 sub direktori yaitu rock_directory,paper_directory,scissors_directory\n",
        "\n",
        "#1. paper_directory : merupakan sub direktori yang mana merupakan klasifikasi gambar jari tangan berbentuk kertas (aksi jari tangan terlentang)\n",
        "paper_directory = os.path.join(base_directory, 'paper')\n",
        "\n",
        "#2. rock_directory : merupakan sub direktori yang mana merupakan klasifikasi gambar jari tangan berbentuk batu (aksi jari tangan mengepal)\n",
        "rock_directory = os.path.join(base_directory, 'rock')\n",
        "\n",
        "#3. scissors_directory : merupakan sub direktori yang mana merupakan klasifikasi gambar tangan berbentuk gunting (aksi jari tangan telunjuk dan tengah berbentuk huruf v dan jari selainnya melungkup )\n",
        "scissors_directory = os.path.join(base_directory, 'scissors')"
      ],
      "execution_count": null,
      "outputs": []
    },
    {
      "cell_type": "code",
      "metadata": {
        "id": "ptCy7A_Dkbpn"
      },
      "source": [],
      "execution_count": null,
      "outputs": []
    },
    {
      "cell_type": "code",
      "metadata": {
        "id": "66EoooZASOD8"
      },
      "source": [
        "# Memecah sub direktori paper menjadi data train (data pelatihan) dan data validasi (data pengujian) dengan test_size = 0.4, train_size = 0.6\n",
        "train_paper_directory,validation_paper_directory = train_test_split(os.listdir(paper_directory),test_size = 0.4, train_size = 0.6)\n",
        "\n",
        "# Memecah sub direktori rock menjadi data train (data pelatihan) dan data validasi (data pengujian) dengan test_size = 0.4, train_size = 0.6\n",
        "train_rock_directory,validation_rock_directory = train_test_split(os.listdir(rock_directory),test_size = 0.4, train_size = 0.6)\n",
        "\n",
        "# Memecah sub direktori scissors menjadi data train (data pelatihan) dan data validasi (data pengujian) dengan test_size = 0.4, train_size = 0.6\n",
        "train_scissors_directory,validation_scissors_directory = train_test_split(os.listdir(scissors_directory),test_size = 0.4, train_size = 0.6)"
      ],
      "execution_count": null,
      "outputs": []
    },
    {
      "cell_type": "code",
      "metadata": {
        "id": "bQikcP_QYJqZ"
      },
      "source": [
        "# membuat direktori tangan paper untuk train process pada direktori data training\n",
        "train_paper = os.path.join(train_directory, 'paper')\n",
        "\n",
        "# membuat direktori tangan rock untuk train process pada direktori data training\n",
        "train_rock = os.path.join(train_directory, 'rock')\n",
        "\n",
        "# membuat direktori tangan scissors untuk train process pada direktori data training\n",
        "train_scissors= os.path.join(train_directory, 'scissors')\n",
        "\n",
        "# membuat direktori tangan paper untuk validation process pada direktori data validasi\n",
        "validation_paper = os.path.join(validation_directory, 'paper')\n",
        "\n",
        "# membuat direktori tangan rock untuk validation process pada direktori data validasi\n",
        "validation_rock = os.path.join(validation_directory, 'rock')\n",
        "\n",
        "# membuat direktori tangan scissors untuk validation process pada direktori data validasi\n",
        "validation_scissors = os.path.join(validation_directory, 'scissors')"
      ],
      "execution_count": null,
      "outputs": []
    },
    {
      "cell_type": "code",
      "metadata": {
        "id": "QrYHRYfnYz6l"
      },
      "source": [
        "# Membagi datagen menjadi train datagen(untuk pelatihan) dan test datagen(untuk pengujian)\n",
        "# train datagen\n",
        "train_datagen = ImageDataGenerator(\n",
        "                    rescale=1./255,\n",
        "                    rotation_range=20,\n",
        "                    horizontal_flip=True,\n",
        "                    shear_range = 0.2,\n",
        "                    fill_mode = 'nearest')\n",
        "# test_datagen\n",
        "test_datagen = ImageDataGenerator(\n",
        "                    rescale=1./255,\n",
        "                    rotation_range=20,\n",
        "                    horizontal_flip=True,\n",
        "                    shear_range = 0.2,\n",
        "                    fill_mode = 'nearest')"
      ],
      "execution_count": null,
      "outputs": []
    },
    {
      "cell_type": "code",
      "metadata": {
        "colab": {
          "base_uri": "https://localhost:8080/"
        },
        "id": "eVi0qE-MZTQw",
        "outputId": "322367ac-98b4-4a12-c9e9-3305bdf715ec"
      },
      "source": [
        "# Membagi datagen menjadi train generator(untuk pelatihan) dan test generator(untuk pengujian)\n",
        "# train_generator\n",
        "train_generator = train_datagen.flow_from_directory(\n",
        "        train_directory,  # direktori data latih\n",
        "        target_size=(150, 150),  # mengubah resolusi seluruh gambar menjadi 150x150 piksel\n",
        "        batch_size=32,\n",
        "        class_mode='categorical')\n",
        "\n",
        "# validation_generator\n",
        "validation_generator = test_datagen.flow_from_directory(\n",
        "        validation_directory, # direktori data validasi\n",
        "        target_size=(150, 150), # mengubah resolusi seluruh gambar menjadi 150x150 piksel\n",
        "        batch_size=32, # karena ini merupakan masalah klasifikasi 3 kelas maka menggunakan class_mode = 'categorical'\n",
        "        class_mode='categorical')"
      ],
      "execution_count": null,
      "outputs": [
        {
          "output_type": "stream",
          "text": [
            "Found 1312 images belonging to 3 classes.\n",
            "Found 876 images belonging to 3 classes.\n"
          ],
          "name": "stdout"
        }
      ]
    },
    {
      "cell_type": "code",
      "metadata": {
        "id": "xIPBmuZRew6D"
      },
      "source": [
        "# mengimplementasikan model\n",
        "from keras.constraints import maxnorm\n",
        "model = tf.keras.models.Sequential([\n",
        "    tf.keras.layers.Conv2D(32, (3,3), activation='relu', input_shape=(150, 150, 3)),\n",
        "    tf.keras.layers.MaxPooling2D(2, 2),\n",
        "    tf.keras.layers.Conv2D(64, (3,3), activation='relu'),\n",
        "    tf.keras.layers.MaxPooling2D(2,2),\n",
        "    tf.keras.layers.Conv2D(128, (3,3), activation='relu'),\n",
        "    tf.keras.layers.MaxPooling2D(2,2),\n",
        "    tf.keras.layers.Conv2D(256, (3,3), activation='relu'),\n",
        "    tf.keras.layers.MaxPooling2D(2,2),\n",
        "    tf.keras.layers.Flatten(),\n",
        "    tf.keras.layers.Dense(512, activation='relu'),\n",
        "    tf.keras.layers.Dense(3, activation='softmax')\n",
        "])"
      ],
      "execution_count": null,
      "outputs": []
    },
    {
      "cell_type": "code",
      "metadata": {
        "id": "-9dM0UEgfRhK"
      },
      "source": [
        "# memetakan model compile\n",
        "model.compile(loss='categorical_crossentropy',\n",
        "              optimizer=tf.optimizers.Adam(),\n",
        "              metrics=['accuracy'])"
      ],
      "execution_count": null,
      "outputs": []
    },
    {
      "cell_type": "code",
      "metadata": {
        "colab": {
          "base_uri": "https://localhost:8080/"
        },
        "id": "ZumavUIhfm0B",
        "outputId": "8bb04b8b-02b0-4db8-aec5-c8a93fea56a2"
      },
      "source": [
        "# tahap pengujian yang mana data diuji\n",
        "history = model.fit(\n",
        "      train_generator,\n",
        "      steps_per_epoch=25,  # berapa batch yang akan dieksekusi pada setiap epoch\n",
        "      epochs=20,\n",
        "      validation_data=validation_generator, # menampilkan akurasi pengujian data validasi\n",
        "      validation_steps=5,  # berapa batch yang akan dieksekusi pada setiap epoch\n",
        ")"
      ],
      "execution_count": null,
      "outputs": [
        {
          "output_type": "stream",
          "text": [
            "Epoch 1/20\n",
            "25/25 [==============================] - 51s 2s/step - loss: 1.1146 - accuracy: 0.3562 - val_loss: 1.0620 - val_accuracy: 0.5000\n",
            "Epoch 2/20\n",
            "25/25 [==============================] - 49s 2s/step - loss: 0.8355 - accuracy: 0.6800 - val_loss: 0.6298 - val_accuracy: 0.7312\n",
            "Epoch 3/20\n",
            "25/25 [==============================] - 49s 2s/step - loss: 0.4027 - accuracy: 0.8525 - val_loss: 0.2479 - val_accuracy: 0.9187\n",
            "Epoch 4/20\n",
            "25/25 [==============================] - 49s 2s/step - loss: 0.2457 - accuracy: 0.9112 - val_loss: 0.2538 - val_accuracy: 0.9187\n",
            "Epoch 5/20\n",
            "25/25 [==============================] - 49s 2s/step - loss: 0.2253 - accuracy: 0.9200 - val_loss: 0.1893 - val_accuracy: 0.9375\n",
            "Epoch 6/20\n",
            "25/25 [==============================] - 49s 2s/step - loss: 0.1845 - accuracy: 0.9438 - val_loss: 0.2393 - val_accuracy: 0.9438\n",
            "Epoch 7/20\n",
            "25/25 [==============================] - 49s 2s/step - loss: 0.1550 - accuracy: 0.9488 - val_loss: 0.3734 - val_accuracy: 0.9125\n",
            "Epoch 8/20\n",
            "25/25 [==============================] - 49s 2s/step - loss: 0.1228 - accuracy: 0.9625 - val_loss: 0.1429 - val_accuracy: 0.9312\n",
            "Epoch 9/20\n",
            "25/25 [==============================] - 50s 2s/step - loss: 0.1143 - accuracy: 0.9663 - val_loss: 0.2036 - val_accuracy: 0.9312\n",
            "Epoch 10/20\n",
            "25/25 [==============================] - 49s 2s/step - loss: 0.1402 - accuracy: 0.9575 - val_loss: 0.2309 - val_accuracy: 0.9438\n",
            "Epoch 11/20\n",
            "25/25 [==============================] - 49s 2s/step - loss: 0.1503 - accuracy: 0.9525 - val_loss: 0.2579 - val_accuracy: 0.9250\n",
            "Epoch 12/20\n",
            "25/25 [==============================] - 49s 2s/step - loss: 0.1096 - accuracy: 0.9613 - val_loss: 0.1422 - val_accuracy: 0.9688\n",
            "Epoch 13/20\n",
            "25/25 [==============================] - 49s 2s/step - loss: 0.0773 - accuracy: 0.9725 - val_loss: 0.0352 - val_accuracy: 0.9875\n",
            "Epoch 14/20\n",
            "25/25 [==============================] - 49s 2s/step - loss: 0.0989 - accuracy: 0.9600 - val_loss: 0.2223 - val_accuracy: 0.9312\n",
            "Epoch 15/20\n",
            "25/25 [==============================] - 49s 2s/step - loss: 0.1130 - accuracy: 0.9737 - val_loss: 0.1505 - val_accuracy: 0.9375\n",
            "Epoch 16/20\n",
            "25/25 [==============================] - 49s 2s/step - loss: 0.1031 - accuracy: 0.9688 - val_loss: 0.1167 - val_accuracy: 0.9875\n",
            "Epoch 17/20\n",
            "25/25 [==============================] - 49s 2s/step - loss: 0.0538 - accuracy: 0.9800 - val_loss: 0.1095 - val_accuracy: 0.9688\n",
            "Epoch 18/20\n",
            "25/25 [==============================] - 49s 2s/step - loss: 0.0333 - accuracy: 0.9887 - val_loss: 0.1890 - val_accuracy: 0.9625\n",
            "Epoch 19/20\n",
            "25/25 [==============================] - 49s 2s/step - loss: 0.0354 - accuracy: 0.9875 - val_loss: 0.1010 - val_accuracy: 0.9563\n",
            "Epoch 20/20\n",
            "25/25 [==============================] - 49s 2s/step - loss: 0.0545 - accuracy: 0.9850 - val_loss: 0.0554 - val_accuracy: 0.9875\n"
          ],
          "name": "stdout"
        }
      ]
    },
    {
      "cell_type": "code",
      "metadata": {
        "colab": {
          "resources": {
            "http://localhost:8080/nbextensions/google.colab/files.js": {
              "data": "Ly8gQ29weXJpZ2h0IDIwMTcgR29vZ2xlIExMQwovLwovLyBMaWNlbnNlZCB1bmRlciB0aGUgQXBhY2hlIExpY2Vuc2UsIFZlcnNpb24gMi4wICh0aGUgIkxpY2Vuc2UiKTsKLy8geW91IG1heSBub3QgdXNlIHRoaXMgZmlsZSBleGNlcHQgaW4gY29tcGxpYW5jZSB3aXRoIHRoZSBMaWNlbnNlLgovLyBZb3UgbWF5IG9idGFpbiBhIGNvcHkgb2YgdGhlIExpY2Vuc2UgYXQKLy8KLy8gICAgICBodHRwOi8vd3d3LmFwYWNoZS5vcmcvbGljZW5zZXMvTElDRU5TRS0yLjAKLy8KLy8gVW5sZXNzIHJlcXVpcmVkIGJ5IGFwcGxpY2FibGUgbGF3IG9yIGFncmVlZCB0byBpbiB3cml0aW5nLCBzb2Z0d2FyZQovLyBkaXN0cmlidXRlZCB1bmRlciB0aGUgTGljZW5zZSBpcyBkaXN0cmlidXRlZCBvbiBhbiAiQVMgSVMiIEJBU0lTLAovLyBXSVRIT1VUIFdBUlJBTlRJRVMgT1IgQ09ORElUSU9OUyBPRiBBTlkgS0lORCwgZWl0aGVyIGV4cHJlc3Mgb3IgaW1wbGllZC4KLy8gU2VlIHRoZSBMaWNlbnNlIGZvciB0aGUgc3BlY2lmaWMgbGFuZ3VhZ2UgZ292ZXJuaW5nIHBlcm1pc3Npb25zIGFuZAovLyBsaW1pdGF0aW9ucyB1bmRlciB0aGUgTGljZW5zZS4KCi8qKgogKiBAZmlsZW92ZXJ2aWV3IEhlbHBlcnMgZm9yIGdvb2dsZS5jb2xhYiBQeXRob24gbW9kdWxlLgogKi8KKGZ1bmN0aW9uKHNjb3BlKSB7CmZ1bmN0aW9uIHNwYW4odGV4dCwgc3R5bGVBdHRyaWJ1dGVzID0ge30pIHsKICBjb25zdCBlbGVtZW50ID0gZG9jdW1lbnQuY3JlYXRlRWxlbWVudCgnc3BhbicpOwogIGVsZW1lbnQudGV4dENvbnRlbnQgPSB0ZXh0OwogIGZvciAoY29uc3Qga2V5IG9mIE9iamVjdC5rZXlzKHN0eWxlQXR0cmlidXRlcykpIHsKICAgIGVsZW1lbnQuc3R5bGVba2V5XSA9IHN0eWxlQXR0cmlidXRlc1trZXldOwogIH0KICByZXR1cm4gZWxlbWVudDsKfQoKLy8gTWF4IG51bWJlciBvZiBieXRlcyB3aGljaCB3aWxsIGJlIHVwbG9hZGVkIGF0IGEgdGltZS4KY29uc3QgTUFYX1BBWUxPQURfU0laRSA9IDEwMCAqIDEwMjQ7CgpmdW5jdGlvbiBfdXBsb2FkRmlsZXMoaW5wdXRJZCwgb3V0cHV0SWQpIHsKICBjb25zdCBzdGVwcyA9IHVwbG9hZEZpbGVzU3RlcChpbnB1dElkLCBvdXRwdXRJZCk7CiAgY29uc3Qgb3V0cHV0RWxlbWVudCA9IGRvY3VtZW50LmdldEVsZW1lbnRCeUlkKG91dHB1dElkKTsKICAvLyBDYWNoZSBzdGVwcyBvbiB0aGUgb3V0cHV0RWxlbWVudCB0byBtYWtlIGl0IGF2YWlsYWJsZSBmb3IgdGhlIG5leHQgY2FsbAogIC8vIHRvIHVwbG9hZEZpbGVzQ29udGludWUgZnJvbSBQeXRob24uCiAgb3V0cHV0RWxlbWVudC5zdGVwcyA9IHN0ZXBzOwoKICByZXR1cm4gX3VwbG9hZEZpbGVzQ29udGludWUob3V0cHV0SWQpOwp9CgovLyBUaGlzIGlzIHJvdWdobHkgYW4gYXN5bmMgZ2VuZXJhdG9yIChub3Qgc3VwcG9ydGVkIGluIHRoZSBicm93c2VyIHlldCksCi8vIHdoZXJlIHRoZXJlIGFyZSBtdWx0aXBsZSBhc3luY2hyb25vdXMgc3RlcHMgYW5kIHRoZSBQeXRob24gc2lkZSBpcyBnb2luZwovLyB0byBwb2xsIGZvciBjb21wbGV0aW9uIG9mIGVhY2ggc3RlcC4KLy8gVGhpcyB1c2VzIGEgUHJvbWlzZSB0byBibG9jayB0aGUgcHl0aG9uIHNpZGUgb24gY29tcGxldGlvbiBvZiBlYWNoIHN0ZXAsCi8vIHRoZW4gcGFzc2VzIHRoZSByZXN1bHQgb2YgdGhlIHByZXZpb3VzIHN0ZXAgYXMgdGhlIGlucHV0IHRvIHRoZSBuZXh0IHN0ZXAuCmZ1bmN0aW9uIF91cGxvYWRGaWxlc0NvbnRpbnVlKG91dHB1dElkKSB7CiAgY29uc3Qgb3V0cHV0RWxlbWVudCA9IGRvY3VtZW50LmdldEVsZW1lbnRCeUlkKG91dHB1dElkKTsKICBjb25zdCBzdGVwcyA9IG91dHB1dEVsZW1lbnQuc3RlcHM7CgogIGNvbnN0IG5leHQgPSBzdGVwcy5uZXh0KG91dHB1dEVsZW1lbnQubGFzdFByb21pc2VWYWx1ZSk7CiAgcmV0dXJuIFByb21pc2UucmVzb2x2ZShuZXh0LnZhbHVlLnByb21pc2UpLnRoZW4oKHZhbHVlKSA9PiB7CiAgICAvLyBDYWNoZSB0aGUgbGFzdCBwcm9taXNlIHZhbHVlIHRvIG1ha2UgaXQgYXZhaWxhYmxlIHRvIHRoZSBuZXh0CiAgICAvLyBzdGVwIG9mIHRoZSBnZW5lcmF0b3IuCiAgICBvdXRwdXRFbGVtZW50Lmxhc3RQcm9taXNlVmFsdWUgPSB2YWx1ZTsKICAgIHJldHVybiBuZXh0LnZhbHVlLnJlc3BvbnNlOwogIH0pOwp9CgovKioKICogR2VuZXJhdG9yIGZ1bmN0aW9uIHdoaWNoIGlzIGNhbGxlZCBiZXR3ZWVuIGVhY2ggYXN5bmMgc3RlcCBvZiB0aGUgdXBsb2FkCiAqIHByb2Nlc3MuCiAqIEBwYXJhbSB7c3RyaW5nfSBpbnB1dElkIEVsZW1lbnQgSUQgb2YgdGhlIGlucHV0IGZpbGUgcGlja2VyIGVsZW1lbnQuCiAqIEBwYXJhbSB7c3RyaW5nfSBvdXRwdXRJZCBFbGVtZW50IElEIG9mIHRoZSBvdXRwdXQgZGlzcGxheS4KICogQHJldHVybiB7IUl0ZXJhYmxlPCFPYmplY3Q+fSBJdGVyYWJsZSBvZiBuZXh0IHN0ZXBzLgogKi8KZnVuY3Rpb24qIHVwbG9hZEZpbGVzU3RlcChpbnB1dElkLCBvdXRwdXRJZCkgewogIGNvbnN0IGlucHV0RWxlbWVudCA9IGRvY3VtZW50LmdldEVsZW1lbnRCeUlkKGlucHV0SWQpOwogIGlucHV0RWxlbWVudC5kaXNhYmxlZCA9IGZhbHNlOwoKICBjb25zdCBvdXRwdXRFbGVtZW50ID0gZG9jdW1lbnQuZ2V0RWxlbWVudEJ5SWQob3V0cHV0SWQpOwogIG91dHB1dEVsZW1lbnQuaW5uZXJIVE1MID0gJyc7CgogIGNvbnN0IHBpY2tlZFByb21pc2UgPSBuZXcgUHJvbWlzZSgocmVzb2x2ZSkgPT4gewogICAgaW5wdXRFbGVtZW50LmFkZEV2ZW50TGlzdGVuZXIoJ2NoYW5nZScsIChlKSA9PiB7CiAgICAgIHJlc29sdmUoZS50YXJnZXQuZmlsZXMpOwogICAgfSk7CiAgfSk7CgogIGNvbnN0IGNhbmNlbCA9IGRvY3VtZW50LmNyZWF0ZUVsZW1lbnQoJ2J1dHRvbicpOwogIGlucHV0RWxlbWVudC5wYXJlbnRFbGVtZW50LmFwcGVuZENoaWxkKGNhbmNlbCk7CiAgY2FuY2VsLnRleHRDb250ZW50ID0gJ0NhbmNlbCB1cGxvYWQnOwogIGNvbnN0IGNhbmNlbFByb21pc2UgPSBuZXcgUHJvbWlzZSgocmVzb2x2ZSkgPT4gewogICAgY2FuY2VsLm9uY2xpY2sgPSAoKSA9PiB7CiAgICAgIHJlc29sdmUobnVsbCk7CiAgICB9OwogIH0pOwoKICAvLyBXYWl0IGZvciB0aGUgdXNlciB0byBwaWNrIHRoZSBmaWxlcy4KICBjb25zdCBmaWxlcyA9IHlpZWxkIHsKICAgIHByb21pc2U6IFByb21pc2UucmFjZShbcGlja2VkUHJvbWlzZSwgY2FuY2VsUHJvbWlzZV0pLAogICAgcmVzcG9uc2U6IHsKICAgICAgYWN0aW9uOiAnc3RhcnRpbmcnLAogICAgfQogIH07CgogIGNhbmNlbC5yZW1vdmUoKTsKCiAgLy8gRGlzYWJsZSB0aGUgaW5wdXQgZWxlbWVudCBzaW5jZSBmdXJ0aGVyIHBpY2tzIGFyZSBub3QgYWxsb3dlZC4KICBpbnB1dEVsZW1lbnQuZGlzYWJsZWQgPSB0cnVlOwoKICBpZiAoIWZpbGVzKSB7CiAgICByZXR1cm4gewogICAgICByZXNwb25zZTogewogICAgICAgIGFjdGlvbjogJ2NvbXBsZXRlJywKICAgICAgfQogICAgfTsKICB9CgogIGZvciAoY29uc3QgZmlsZSBvZiBmaWxlcykgewogICAgY29uc3QgbGkgPSBkb2N1bWVudC5jcmVhdGVFbGVtZW50KCdsaScpOwogICAgbGkuYXBwZW5kKHNwYW4oZmlsZS5uYW1lLCB7Zm9udFdlaWdodDogJ2JvbGQnfSkpOwogICAgbGkuYXBwZW5kKHNwYW4oCiAgICAgICAgYCgke2ZpbGUudHlwZSB8fCAnbi9hJ30pIC0gJHtmaWxlLnNpemV9IGJ5dGVzLCBgICsKICAgICAgICBgbGFzdCBtb2RpZmllZDogJHsKICAgICAgICAgICAgZmlsZS5sYXN0TW9kaWZpZWREYXRlID8gZmlsZS5sYXN0TW9kaWZpZWREYXRlLnRvTG9jYWxlRGF0ZVN0cmluZygpIDoKICAgICAgICAgICAgICAgICAgICAgICAgICAgICAgICAgICAgJ24vYSd9IC0gYCkpOwogICAgY29uc3QgcGVyY2VudCA9IHNwYW4oJzAlIGRvbmUnKTsKICAgIGxpLmFwcGVuZENoaWxkKHBlcmNlbnQpOwoKICAgIG91dHB1dEVsZW1lbnQuYXBwZW5kQ2hpbGQobGkpOwoKICAgIGNvbnN0IGZpbGVEYXRhUHJvbWlzZSA9IG5ldyBQcm9taXNlKChyZXNvbHZlKSA9PiB7CiAgICAgIGNvbnN0IHJlYWRlciA9IG5ldyBGaWxlUmVhZGVyKCk7CiAgICAgIHJlYWRlci5vbmxvYWQgPSAoZSkgPT4gewogICAgICAgIHJlc29sdmUoZS50YXJnZXQucmVzdWx0KTsKICAgICAgfTsKICAgICAgcmVhZGVyLnJlYWRBc0FycmF5QnVmZmVyKGZpbGUpOwogICAgfSk7CiAgICAvLyBXYWl0IGZvciB0aGUgZGF0YSB0byBiZSByZWFkeS4KICAgIGxldCBmaWxlRGF0YSA9IHlpZWxkIHsKICAgICAgcHJvbWlzZTogZmlsZURhdGFQcm9taXNlLAogICAgICByZXNwb25zZTogewogICAgICAgIGFjdGlvbjogJ2NvbnRpbnVlJywKICAgICAgfQogICAgfTsKCiAgICAvLyBVc2UgYSBjaHVua2VkIHNlbmRpbmcgdG8gYXZvaWQgbWVzc2FnZSBzaXplIGxpbWl0cy4gU2VlIGIvNjIxMTU2NjAuCiAgICBsZXQgcG9zaXRpb24gPSAwOwogICAgZG8gewogICAgICBjb25zdCBsZW5ndGggPSBNYXRoLm1pbihmaWxlRGF0YS5ieXRlTGVuZ3RoIC0gcG9zaXRpb24sIE1BWF9QQVlMT0FEX1NJWkUpOwogICAgICBjb25zdCBjaHVuayA9IG5ldyBVaW50OEFycmF5KGZpbGVEYXRhLCBwb3NpdGlvbiwgbGVuZ3RoKTsKICAgICAgcG9zaXRpb24gKz0gbGVuZ3RoOwoKICAgICAgY29uc3QgYmFzZTY0ID0gYnRvYShTdHJpbmcuZnJvbUNoYXJDb2RlLmFwcGx5KG51bGwsIGNodW5rKSk7CiAgICAgIHlpZWxkIHsKICAgICAgICByZXNwb25zZTogewogICAgICAgICAgYWN0aW9uOiAnYXBwZW5kJywKICAgICAgICAgIGZpbGU6IGZpbGUubmFtZSwKICAgICAgICAgIGRhdGE6IGJhc2U2NCwKICAgICAgICB9LAogICAgICB9OwoKICAgICAgbGV0IHBlcmNlbnREb25lID0gZmlsZURhdGEuYnl0ZUxlbmd0aCA9PT0gMCA/CiAgICAgICAgICAxMDAgOgogICAgICAgICAgTWF0aC5yb3VuZCgocG9zaXRpb24gLyBmaWxlRGF0YS5ieXRlTGVuZ3RoKSAqIDEwMCk7CiAgICAgIHBlcmNlbnQudGV4dENvbnRlbnQgPSBgJHtwZXJjZW50RG9uZX0lIGRvbmVgOwoKICAgIH0gd2hpbGUgKHBvc2l0aW9uIDwgZmlsZURhdGEuYnl0ZUxlbmd0aCk7CiAgfQoKICAvLyBBbGwgZG9uZS4KICB5aWVsZCB7CiAgICByZXNwb25zZTogewogICAgICBhY3Rpb246ICdjb21wbGV0ZScsCiAgICB9CiAgfTsKfQoKc2NvcGUuZ29vZ2xlID0gc2NvcGUuZ29vZ2xlIHx8IHt9OwpzY29wZS5nb29nbGUuY29sYWIgPSBzY29wZS5nb29nbGUuY29sYWIgfHwge307CnNjb3BlLmdvb2dsZS5jb2xhYi5fZmlsZXMgPSB7CiAgX3VwbG9hZEZpbGVzLAogIF91cGxvYWRGaWxlc0NvbnRpbnVlLAp9Owp9KShzZWxmKTsK",
              "ok": true,
              "headers": [
                [
                  "content-type",
                  "application/javascript"
                ]
              ],
              "status": 200,
              "status_text": ""
            }
          },
          "base_uri": "https://localhost:8080/",
          "height": 361
        },
        "id": "kQVXNaqjiB7x",
        "outputId": "b983b13e-3a9e-4ed0-9d76-8dc011421d34"
      },
      "source": [
        "# Menginput gambar untuk diuji klasifikasi bentuk tangannya\n",
        "# Mengimpor beberapa library untuk keperluan meninput dan memproses gambar untuk klasifikasi gambar tangan\n",
        "import numpy as np\n",
        "from google.colab import files\n",
        "import matplotlib.pyplot as plt\n",
        "import matplotlib.image as mpimg\n",
        "from keras.preprocessing import image\n",
        "%matplotlib inline\n",
        "\n",
        "uploaded = files.upload()\n",
        "\n",
        "for j in uploaded.keys():\n",
        "\n",
        "  # predicting images\n",
        "  path = j\n",
        "  img = image.load_img(path, target_size=(150,150))\n",
        "  imgplot = plt.imshow(img)\n",
        "  x = image.img_to_array(img)\n",
        "  x = np.expand_dims(x, axis=0)\n",
        "\n",
        "  images = np.vstack([x])\n",
        "  classes = model.predict(images, batch_size=10)\n",
        "\n",
        "  print(j)\n",
        "  if classes[0][0]==1: # Jika gambar dengan kelas dengan posisi bagian matriks [0][0]==1 maka gambar tersebut tergolong tangan dengan bentuk paper (aksi jari tangan terlentang)\n",
        "    print('Paper Shape')\n",
        "  elif classes[0][1]==1:# Jika gambar dengan kelas dengan posisi bagian matriks [0][2]==1 maka gambar tersebut tergolong tangan dengan bentuk rock(batu) (aksi jari tangan menggenggam)\n",
        "    print('Rock Shape')\n",
        "  elif classes[0][2]==1: # Jika gambar dengan kelas dengan posisi bagian matriks [0][3]==1 maka gambar tersebut tergolong tangan dengan bentuk scissors (gunting) (aksi jari tangan telunjuk dan tengah berbentuk huruf v dan jari selainnya melungkup)\n",
        "    print('Scissors Shape')\n",
        "  else : # Jika gambar dengan kelas dengan posisi bagian matriks [0][3]==1 maka gambar tersebut tergolong tangan dengan bentuk scissors (gunting) (aksi jari tangan telunjuk dan tengah berbentuk huruf v dan jari selainnya melungkup)\n",
        "    print('Abstract Shape')\n"
      ],
      "execution_count": null,
      "outputs": [
        {
          "output_type": "display_data",
          "data": {
            "text/html": [
              "\n",
              "     <input type=\"file\" id=\"files-736a5224-67e3-4fe3-b352-6f99c1dff4e5\" name=\"files[]\" multiple disabled\n",
              "        style=\"border:none\" />\n",
              "     <output id=\"result-736a5224-67e3-4fe3-b352-6f99c1dff4e5\">\n",
              "      Upload widget is only available when the cell has been executed in the\n",
              "      current browser session. Please rerun this cell to enable.\n",
              "      </output>\n",
              "      <script src=\"/nbextensions/google.colab/files.js\"></script> "
            ],
            "text/plain": [
              "<IPython.core.display.HTML object>"
            ]
          },
          "metadata": {
            "tags": []
          }
        },
        {
          "output_type": "stream",
          "text": [
            "Saving 1CXgK9fgGdSRggD9.png to 1CXgK9fgGdSRggD9 (1).png\n",
            "1CXgK9fgGdSRggD9.png\n",
            "Scissors Shape\n"
          ],
          "name": "stdout"
        },
        {
          "output_type": "display_data",
          "data": {
            "image/png": "[encoded data removed]",
            "text/plain": [
              "<Figure size 432x288 with 1 Axes>"
            ]
          },
          "metadata": {
            "tags": [],
            "needs_background": "light"
          }
        }
      ]
    }
  ]
}