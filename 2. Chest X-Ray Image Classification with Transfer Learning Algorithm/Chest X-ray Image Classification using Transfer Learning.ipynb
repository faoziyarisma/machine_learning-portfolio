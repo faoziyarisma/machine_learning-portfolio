{
  "nbformat": 4,
  "nbformat_minor": 0,
  "metadata": {
    "colab": {
      "private_outputs": true,
      "provenance": []
    },
    "kernelspec": {
      "name": "python3",
      "display_name": "Python 3"
    },
    "accelerator": "GPU"
  },
  "cells": [
    {
      "cell_type": "markdown",
      "source": [
        "# **Chest X-ray Image classification using Transfer Learning Algorithm**\n",
        "This project leveraging Inception and Exception Pre-trained Model. The project data is taken from Kaggle and consist of 4000 chest x-ray images, 2000 of which are normal images and 2000 remaining are covid. The task involved binary classification with binary cross entropy as the loss function, SGD as the optimizer, learning rate and momentum as hyperparameter tuning, and accuracy as the metric. The best model was obtained from Exception model achieved 90% accuracy with a learning rate of 0.0003 and value of momentum is 0.9."
      ],
      "metadata": {
        "id": "TXOHVYFB0BXI"
      }
    },
    {
      "cell_type": "code",
      "metadata": {
        "id": "fWnQ4_bM6ryj"
      },
      "source": [
        "import glob\n",
        "import numpy as np\n",
        "import os\n",
        "import shutil\n",
        "np.random.seed(42)"
      ],
      "execution_count": null,
      "outputs": []
    },
    {
      "cell_type": "code",
      "metadata": {
        "id": "_Zz2D4gm4hlO"
      },
      "source": [
        "import tensorflow as tf\n",
        "tf.test.gpu_device_name()"
      ],
      "execution_count": null,
      "outputs": []
    },
    {
      "cell_type": "code",
      "metadata": {
        "id": "TuWSCh1Y5gG4"
      },
      "source": [
        "from tensorflow.python.client import device_lib\n",
        "device_lib.list_local_devices()"
      ],
      "execution_count": null,
      "outputs": []
    },
    {
      "cell_type": "code",
      "metadata": {
        "id": "PzLwbobxP3zv"
      },
      "source": [
        "from google.colab import drive\n",
        "drive.mount('/content/drive')\n",
        "\n",
        "#4/1AX4XfWiBmvHXxnRxiC5fpQzwE_BpZsZJUxflVRojBmUcKM26NBXcean9NPY"
      ],
      "execution_count": null,
      "outputs": []
    },
    {
      "cell_type": "code",
      "metadata": {
        "id": "Tk1Pnl4K070a"
      },
      "source": [
        "IMG_WIDTH=299\n",
        "IMG_HEIGHT=299\n",
        "IMG_DIM = (IMG_WIDTH, IMG_HEIGHT)\n",
        "\n",
        "train_files = glob.glob('/content/drive/My Drive/Penelitian/DATA1/Validation/**/*')\n",
        "\n",
        "\n",
        "# train_files = glob.glob('/content/drive/My Drive/Penelitian/DATA1/Validation/COVID/*')\n",
        "# train_files2 = glob.glob('/content/drive/My Drive/Penelitian/DATA1/Validation/Normal/*')\n",
        "\n",
        "# for i in train_files2:\n",
        "#   train_files.append(i)\n",
        "\n",
        "\n",
        "train_imgs = [tf.keras.preprocessing.image.img_to_array(tf.keras.preprocessing.image.load_img(img, target_size=IMG_DIM)) for img in train_files]\n",
        "train_imgs = np.array(train_imgs)\n",
        "\n",
        "#train_labels = [fn.split('\\\\')[-1].split('.')[0].strip() for fn in train_files]\n",
        "\n",
        "validation_files = glob.glob('/content/drive/My Drive/Penelitian/DATA1/Train/**/*11.png') + glob.glob('/content/drive/My Drive/Penelitian/DATA1/Train/**/*12.png') + glob.glob('/content/drive/My Drive/Penelitian/DATA1/Train/**/*52.png') + glob.glob('/content/drive/My Drive/Penelitian/DATA1/Train/**/*42.png')\n",
        "print(len(validation_files))\n",
        "\n",
        "# validation_files = glob.glob('/content/drive/My Drive/Penelitian/DATA1/Validation/COVID/*')\n",
        "# validation_files2 = glob.glob('/content/drive/My Drive/Penelitian/DATA1/Validation/Normal/*')\n",
        "# for i in validation_files2:\n",
        "#   validation_files.append(i)\n",
        "\n",
        "validation_imgs = [tf.keras.preprocessing.image.img_to_array(tf.keras.preprocessing.image.load_img(img, target_size=IMG_DIM)) for img in validation_files]\n",
        "validation_imgs = np.array(validation_imgs)\n"
      ],
      "execution_count": null,
      "outputs": []
    },
    {
      "cell_type": "code",
      "metadata": {
        "id": "NySTbY_6pUBS"
      },
      "source": [
        "train_labels =[fn[52:55] for fn in train_files]\n",
        "validation_labels =[fn[47:50] for fn in validation_files]\n",
        "\n",
        "number_of_trainsamples=train_imgs.shape[0]\n",
        "number_of_testsamples=validation_imgs.shape[0]\n",
        "#validation_labels = [fn.split('\\\\')[-1].split('.')[0].strip() for fn in validation_files]\n",
        "print('Train dataset shape:', train_imgs.shape,\n",
        " '\\tValidation dataset shape:', validation_imgs.shape)"
      ],
      "execution_count": null,
      "outputs": []
    },
    {
      "cell_type": "code",
      "metadata": {
        "id": "Zt4rx_RJqDoG"
      },
      "source": [
        "print(len(validation_files))\n",
        "print(len(train_files))"
      ],
      "execution_count": null,
      "outputs": []
    },
    {
      "cell_type": "code",
      "metadata": {
        "id": "x2f2_1C_qIbV"
      },
      "source": [
        "validation_labels"
      ],
      "execution_count": null,
      "outputs": []
    },
    {
      "cell_type": "code",
      "metadata": {
        "id": "Y9UF-b-b9-k7"
      },
      "source": [
        "train_imgs_scaled = train_imgs.astype('float32')\n",
        "validation_imgs_scaled = validation_imgs.astype('float32')\n",
        "train_imgs_scaled /= 255\n",
        "validation_imgs_scaled /= 255\n",
        "\n",
        "# visualize a sample image\n",
        "print(train_imgs[0].shape)\n",
        "tf.keras.preprocessing.image.array_to_img(train_imgs[0])"
      ],
      "execution_count": null,
      "outputs": []
    },
    {
      "cell_type": "code",
      "metadata": {
        "id": "POH77PTu-AYc"
      },
      "source": [
        "from sklearn.preprocessing import LabelEncoder\n",
        "\n",
        "le = LabelEncoder()\n",
        "le.fit(train_labels)\n",
        "train_labels_enc = le.transform(train_labels)\n",
        "validation_labels_enc = le.transform(validation_labels)"
      ],
      "execution_count": null,
      "outputs": []
    },
    {
      "cell_type": "code",
      "metadata": {
        "id": "GOLP-a1XZWcR"
      },
      "source": [
        "print(train_labels[1000:1200], train_labels_enc[3500:4000])"
      ],
      "execution_count": null,
      "outputs": []
    },
    {
      "cell_type": "code",
      "metadata": {
        "id": "B77sXUOy4fca"
      },
      "source": [
        "# # from keras.utils import to_categorical\n",
        "# from keras import utils\n",
        "\n",
        "train_labels_enc2 = tf.keras.utils.to_categorical(train_labels_enc)\n",
        "validation_labels_enc2 = tf.keras.utils.to_categorical(validation_labels_enc)"
      ],
      "execution_count": null,
      "outputs": []
    },
    {
      "cell_type": "code",
      "metadata": {
        "id": "2hZLPmIg4q2t"
      },
      "source": [
        "train_datagen = tf.keras.preprocessing.image.ImageDataGenerator(rescale=1./299,\n",
        " width_shift_range=0.2, height_shift_range=0.2,\n",
        " horizontal_flip=True, fill_mode='nearest')\n",
        "val_datagen = tf.keras.preprocessing.image.ImageDataGenerator(rescale=1./299)"
      ],
      "execution_count": null,
      "outputs": []
    },
    {
      "cell_type": "code",
      "metadata": {
        "id": "qCFinhim6Nt0"
      },
      "source": [
        "import matplotlib.pyplot as plt\n",
        "img_id = 100\n",
        "cat_generator = train_datagen.flow(train_imgs[img_id:img_id+1],\n",
        " train_labels[img_id:img_id+1],\n",
        " batch_size=1)\n",
        "cat = [next(cat_generator) for i in range(0,5)]\n",
        "fig, ax = plt.subplots(1,5, figsize=(16, 6))\n",
        "print('Labels:', [item[1][0] for item in cat])\n",
        "l = [ax[i].imshow(cat[i][0][0]) for i in range(0,5)]"
      ],
      "execution_count": null,
      "outputs": []
    },
    {
      "cell_type": "code",
      "metadata": {
        "id": "zfOjU2m56SFm"
      },
      "source": [
        "batch=10\n",
        "train_generator = train_datagen.flow(train_imgs, train_labels_enc,batch_size=batch)\n",
        "val_generator = val_datagen.flow(validation_imgs, validation_labels_enc, batch_size=batch,shuffle=False )"
      ],
      "execution_count": null,
      "outputs": []
    },
    {
      "cell_type": "code",
      "metadata": {
        "id": "49zdreyj6SV7"
      },
      "source": [
        "\n",
        "from tensorflow.keras.layers import Dense\n",
        "from tensorflow.keras.models import Model\n",
        "\n",
        "xception = tf.keras.applications.InceptionV3(weights='imagenet', include_top=False, input_shape=(IMG_HEIGHT,IMG_WIDTH,3))\n",
        "output = xception.layers[-1].output\n",
        "output = tf.keras.layers.Flatten()(output)\n",
        "xceptionmodel=Model(xception.input,output)\n",
        "for layers in (xceptionmodel.layers):\n",
        "    print(layers)\n",
        "    layers.trainable = True\n",
        "xception.summary()\n"
      ],
      "execution_count": null,
      "outputs": []
    },
    {
      "cell_type": "code",
      "metadata": {
        "id": "YFnlXolwzc45"
      },
      "source": [
        "from tensorflow.keras.layers import Conv2D,MaxPooling2D,Flatten, Dense, Dropout,InputLayer\n",
        "from tensorflow.keras.models import Sequential\n",
        "from tensorflow.keras import optimizers\n",
        "input_shape=(IMG_HEIGHT,IMG_WIDTH)\n",
        "model=Sequential()\n",
        "model.add(xceptionmodel)\n",
        "model.add(Dense(1, activation='sigmoid'))\n",
        "model.compile(loss='BinaryCrossentropy',optimizer=optimizers.SGD(lr=0.0007, momentum=0.9), metrics=[\"accuracy\"])\n",
        "model.summary()"
      ],
      "execution_count": null,
      "outputs": []
    },
    {
      "cell_type": "code",
      "metadata": {
        "id": "DYbLTONoz4UC"
      },
      "source": [
        "from tensorflow.keras.callbacks import ModelCheckpoint, EarlyStopping\n",
        "import tensorflow as tf\n",
        "#checkpoint = ModelCheckpoint(\"xception_50.h5\", monitor='val_accuracy', verbose=1, save_best_only=True, save_weights_only=False, mode='auto', period=1)\n",
        "#early = EarlyStopping(monitor='val_accuracy', min_delta=0, patience=10, verbose=1, mode='auto')\n",
        "history=model.fit_generator(generator= train_generator,\n",
        "                            steps_per_epoch= (number_of_trainsamples/batch),\n",
        "                            epochs= 80,\n",
        "                            validation_data= val_generator,\n",
        "                            validation_steps=(number_of_testsamples/batch))\n",
        "#hist=model_final.fit_generator(generator= train_generator, steps_per_epoch= (number_of_trainsamples/batch), epochs= 50, validation_data= val_generator, validation_steps=(number_of_testsamples/batch))\n"
      ],
      "execution_count": null,
      "outputs": []
    },
    {
      "cell_type": "code",
      "metadata": {
        "id": "TvkNa6UE5Hqo"
      },
      "source": [
        "model.save_weights('/content/drive/My Drive/Penelitian/inception86.h5')\n",
        "# model.save_model('/content/drive/My Drive/Penelitian/xception1.h5')"
      ],
      "execution_count": null,
      "outputs": []
    },
    {
      "cell_type": "code",
      "metadata": {
        "id": "PQ9HVfoyX70q"
      },
      "source": [
        "import pandas as pd\n",
        "hist_df = pd.DataFrame(history.history)\n",
        "hist_csv_file = '/content/drive/My Drive/Penelitian/inception86.csv'\n",
        "with open(hist_csv_file, mode='w') as f:\n",
        "    hist_df.to_csv(f)"
      ],
      "execution_count": null,
      "outputs": []
    },
    {
      "cell_type": "code",
      "metadata": {
        "id": "_IlZEdWYX_Tk"
      },
      "source": [
        "\n",
        "plt.plot(history.history['accuracy'])\n",
        "plt.plot(history.history['val_accuracy'])\n",
        "#plt.plot(history.history['loss'])\n",
        "#plt.plot(history.history['val_loss'])\n",
        "plt.title(\"model accuracy\")\n",
        "plt.ylabel(\"Accuracy\")\n",
        "plt.xlabel(\"Epoch\")\n",
        "plt.legend([\"Accuracy\",\"Validation Accuracy\",\"loss\",\"Validation Loss\"])\n",
        "plt.show()"
      ],
      "execution_count": null,
      "outputs": []
    },
    {
      "cell_type": "code",
      "metadata": {
        "id": "tTQk1_UaYSV2"
      },
      "source": [
        "val_generator.reset()\n",
        "Y_pred = model.predict_generator(val_generator, number_of_testsamples/batch)\n",
        "y_pred = np.where(Y_pred>0.5,1,0)\n",
        "print(y_pred)"
      ],
      "execution_count": null,
      "outputs": []
    },
    {
      "cell_type": "code",
      "metadata": {
        "id": "L5qV0500YVtU"
      },
      "source": [
        "print(validation_labels_enc)\n",
        "from sklearn.metrics import classification_report, confusion_matrix\n",
        "print('Confusion Matrix')\n",
        "\n",
        "confmat=confusion_matrix(validation_labels_enc, y_pred)\n",
        "print(confmat)\n",
        "\n",
        "confusionmat_df = pd.DataFrame(confmat)\n",
        "confusionmat_csv_file = '/content/drive/My Drive/Penelitian/confusionmat_inception86.csv'\n",
        "with open(confusionmat_csv_file, mode='w') as f:\n",
        "    confusionmat_df.to_csv(f)\n",
        "print('Classification Report')"
      ],
      "execution_count": null,
      "outputs": []
    },
    {
      "cell_type": "code",
      "metadata": {
        "id": "GuIAaq0QYY_o"
      },
      "source": [
        "target_name=['bagus','reject']\n",
        "print(classification_report(validation_labels_enc, y_pred,\n",
        " target_names=target_name))"
      ],
      "execution_count": null,
      "outputs": []
    },
    {
      "cell_type": "code",
      "metadata": {
        "id": "VUizfc1Tnqju"
      },
      "source": [
        "model.load_weights('/content/drive/My Drive/Penelitian/inception86.h5')"
      ],
      "execution_count": null,
      "outputs": []
    },
    {
      "cell_type": "code",
      "metadata": {
        "id": "vi4vlkYXojAt"
      },
      "source": [
        "validation_files = glob.glob('/content/drive/My Drive/Penelitian/DATA1/Train/**/*9.png')\n",
        "print(len(validation_files))\n",
        "\n",
        "# validation_files = glob.glob('/content/drive/My Drive/Penelitian/DATA1/Validation/COVID/*')\n",
        "# validation_files2 = glob.glob('/content/drive/My Drive/Penelitian/DATA1/Validation/Normal/*')\n",
        "# for i in validation_files2:\n",
        "#   validation_files.append(i)\n",
        "\n",
        "validation_imgs = [tf.keras.preprocessing.image.img_to_array(tf.keras.preprocessing.image.load_img(img, target_size=IMG_DIM)) for img in validation_files]\n",
        "validation_imgs = np.array(validation_imgs)\n"
      ],
      "execution_count": null,
      "outputs": []
    },
    {
      "cell_type": "code",
      "metadata": {
        "id": "gOoNZOc8rYzP"
      },
      "source": [
        "validation_labels =[fn[47:50] for fn in validation_files]"
      ],
      "execution_count": null,
      "outputs": []
    },
    {
      "cell_type": "code",
      "metadata": {
        "id": "SqsZ5BBfrIHE"
      },
      "source": [
        "from sklearn.preprocessing import LabelEncoder\n",
        "le = LabelEncoder()\n",
        "le.fit(validation_labels)\n",
        "validation_labels_enc = le.transform(validation_labels)\n",
        "\n"
      ],
      "execution_count": null,
      "outputs": []
    },
    {
      "cell_type": "code",
      "metadata": {
        "id": "RK6iyoNTrqJP"
      },
      "source": [
        "print(validation_labels[100:150], validation_labels_enc[100:150])"
      ],
      "execution_count": null,
      "outputs": []
    },
    {
      "cell_type": "code",
      "metadata": {
        "id": "NigqqO_SqLyz"
      },
      "source": [
        "number_of_testsamples=validation_imgs.shape[0]\n",
        "val_datagen = tf.keras.preprocessing.image.ImageDataGenerator(rescale=1./299)\n",
        "val_generator = val_datagen.flow(validation_imgs, validation_labels_enc, batch_size=10,shuffle=False )"
      ],
      "execution_count": null,
      "outputs": []
    },
    {
      "cell_type": "code",
      "metadata": {
        "id": "emYJwzUJsMXs"
      },
      "source": [
        "val_generator.reset()\n",
        "Y_pred = model.predict_generator(val_generator, number_of_testsamples/10)\n",
        "y_pred = np.where(Y_pred>0.5,1,0)\n",
        "print(y_pred)"
      ],
      "execution_count": null,
      "outputs": []
    },
    {
      "cell_type": "code",
      "metadata": {
        "id": "IiKJm02DsC5P"
      },
      "source": [
        "from sklearn.metrics import classification_report, confusion_matrix\n",
        "print('Confusion Matrix')\n",
        "\n",
        "confmat=confusion_matrix(validation_labels_enc, y_pred)\n",
        "print(confmat)"
      ],
      "execution_count": null,
      "outputs": []
    },
    {
      "cell_type": "code",
      "metadata": {
        "id": "sBZxIG_zshHo"
      },
      "source": [
        "target_name=['Cov','Normal']\n",
        "print(classification_report(validation_labels_enc, y_pred))"
      ],
      "execution_count": null,
      "outputs": []
    }
  ]
}