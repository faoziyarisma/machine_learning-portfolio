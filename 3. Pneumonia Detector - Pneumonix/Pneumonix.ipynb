{
  "cells": [
    {
      "cell_type": "markdown",
      "source": [
        "# **Pneumonix**\n",
        "Pneumonix is a pneumonia detector that categorizes chest x-ray images as bacterial pneumonia, viral pneumonia, covid, or normal. This project is an extension of the previous one. The difference was instead of using transfer learning,  in this project using CNN algorithm leveraging dropout and kernel regularizer to tackle overfitting. The project data is taken from Kaggle and consists of 12000 chest x-ray images, with 3000 data for each class. The task required multiclass classification with categorical cross entropy as the loss function, Adam as the optimizer, learning rate as the hyperparameter, and accuracy as the metric. Using a learning rate of 0.0004, the training with the best results achieved 98% accuracy for train data and 90% accuracy for validation data."
      ],
      "metadata": {
        "id": "4hVVNrAo0Xms"
      }
    },
    {
      "cell_type": "markdown",
      "source": [
        "# **C22-PS101**\n",
        "The team  :\n",
        "\n",
        "\n",
        "*   Doma Zaneta (M2200F1872)\n",
        "*   Risma Faoziya (M2200F1867)\n",
        "*   Irvan Aulia Luthfi (A2247J2193)\n",
        "*   Natanael Halomoan Nainggolan (A2172F1713)\n",
        "*   Muhammad Nur Abdi (C2247J2182)\n",
        "*   Muhammad Jatmika Aryaputra (C2247J2182)\n",
        "\n",
        "This model developed by :\n",
        "Doma Zaneta and Risma Faoziya"
      ],
      "metadata": {
        "id": "fSd6D7Z7HM5i"
      }
    },
    {
      "cell_type": "markdown",
      "source": [
        "## **Capstone Model C22-PS101**\n",
        "Built with combination of CNN layers, MaxPooling layers, Flatten, Dropout, and Dense layers.\n",
        "\n",
        "### **Dataset**\n",
        "The chest x-ray images dataset from Kaggle :\n",
        "https://www.kaggle.com/datasets/gibi13/pneumonia-covid19-image-dataset\n",
        "https://www.kaggle.com/datasets/paultimothymooney/chest-xray-pneumonia\n",
        "\n",
        "collected to google drive :\n",
        "https://drive.google.com/drive/folders/1tSfUNPvC455v7dkWWB0XxApHP6yhfu_q?usp=sharing"
      ],
      "metadata": {
        "id": "U1nlYUrOBhyt"
      }
    },
    {
      "cell_type": "markdown",
      "source": [
        "### **Import all libraries**"
      ],
      "metadata": {
        "id": "-1XDvVZvD6VZ"
      }
    },
    {
      "cell_type": "code",
      "execution_count": null,
      "metadata": {
        "id": "6oaCDoQBLK4J"
      },
      "outputs": [],
      "source": [
        "import os\n",
        "import zipfile\n",
        "import matplotlib.pyplot as plt\n",
        "import tensorflow as tf\n",
        "from tensorflow.keras import layers\n",
        "from tensorflow.keras import Model\n",
        "from tensorflow.keras.optimizers import RMSprop\n",
        "from tensorflow.keras.preprocessing.image import ImageDataGenerator\n",
        "from tensorflow.keras.preprocessing.image import img_to_array, load_img"
      ]
    },
    {
      "cell_type": "markdown",
      "source": [
        "### **Check the GPU**"
      ],
      "metadata": {
        "id": "YYdrHvG9Bf8G"
      }
    },
    {
      "cell_type": "code",
      "execution_count": null,
      "metadata": {
        "colab": {
          "base_uri": "https://localhost:8080/",
          "height": 35
        },
        "id": "eMzewPq1aTLO",
        "outputId": "0ad98355-d936-4a53-cd08-f270732a87ea"
      },
      "outputs": [
        {
          "output_type": "execute_result",
          "data": {
            "text/plain": [
              "'/device:GPU:0'"
            ],
            "application/vnd.google.colaboratory.intrinsic+json": {
              "type": "string"
            }
          },
          "metadata": {},
          "execution_count": 2
        }
      ],
      "source": [
        "tf.test.gpu_device_name()"
      ]
    },
    {
      "cell_type": "markdown",
      "source": [
        "### **Split The Dataset into Training and Validation Set**\n",
        "Using split-folders library."
      ],
      "metadata": {
        "id": "gM8masBbEHHK"
      }
    },
    {
      "cell_type": "code",
      "execution_count": null,
      "metadata": {
        "colab": {
          "base_uri": "https://localhost:8080/"
        },
        "id": "Gkygl63CaXtH",
        "outputId": "4d2a0393-1f60-490d-fa2e-2bc817f628a9"
      },
      "outputs": [
        {
          "name": "stdout",
          "output_type": "stream",
          "text": [
            "Collecting split-folders\n",
            "  Downloading split_folders-0.5.1-py3-none-any.whl (8.4 kB)\n",
            "Installing collected packages: split-folders\n",
            "Successfully installed split-folders-0.5.1\n"
          ]
        }
      ],
      "source": [
        "# install library to split the dataset into train and validation set\n",
        "# pip install split-folders"
      ]
    },
    {
      "cell_type": "code",
      "execution_count": null,
      "metadata": {
        "id": "ScT6vu9GaYS4"
      },
      "outputs": [],
      "source": [
        "# import splitfolders"
      ]
    },
    {
      "cell_type": "markdown",
      "source": [
        "### **Mount to The Google Drive**"
      ],
      "metadata": {
        "id": "xCbRsnzJE0X6"
      }
    },
    {
      "cell_type": "code",
      "execution_count": null,
      "metadata": {
        "colab": {
          "base_uri": "https://localhost:8080/"
        },
        "id": "mcXtapVCaa4E",
        "outputId": "37305252-db24-472c-88f5-a7ed0a435cbf"
      },
      "outputs": [
        {
          "output_type": "stream",
          "name": "stdout",
          "text": [
            "Mounted at /content/drive\n"
          ]
        }
      ],
      "source": [
        "# mount gdrive\n",
        "\n",
        "from google.colab import drive\n",
        "drive.mount('/content/drive')"
      ]
    },
    {
      "cell_type": "markdown",
      "source": [
        "### **Split The Dataset into Training and Validation Set**\n",
        "With the ratio of 8:2."
      ],
      "metadata": {
        "id": "uW8-UK0eE9Px"
      }
    },
    {
      "cell_type": "code",
      "execution_count": null,
      "metadata": {
        "colab": {
          "base_uri": "https://localhost:8080/"
        },
        "id": "LbGA8FM_a3x9",
        "outputId": "af5c1e10-b3a9-4e30-f7c7-4cd40181e4a7"
      },
      "outputs": [
        {
          "name": "stderr",
          "output_type": "stream",
          "text": [
            "Copying files: 12059 files [05:29, 36.56 files/s] \n"
          ]
        }
      ],
      "source": [
        "# Split into training and validation set\n",
        "\n",
        "# src_dir = '/content/drive/My Drive/Capstone'\n",
        "# output_dir = '/content/drive/My Drive/Capstone1'\n",
        "\n",
        "# splitfolders.ratio(src_dir, output=output_dir, seed=42, ratio=(.8, .2), group_prefix=None)"
      ]
    },
    {
      "cell_type": "code",
      "execution_count": null,
      "metadata": {
        "colab": {
          "base_uri": "https://localhost:8080/"
        },
        "id": "ICCbpulzpv8r",
        "outputId": "b8cf912e-7a5f-4de8-ee96-2af5b8b4dcee"
      },
      "outputs": [
        {
          "output_type": "stream",
          "name": "stdout",
          "text": [
            "There are 2423 images of normal lungs for training.\n",
            "\n",
            "There are 2400 images of covid pneumonia for training.\n",
            "\n",
            "There are 2412 images of bacterial pneumonia for training.\n",
            "\n",
            "There are 2411 images of viral pneumonia for training.\n",
            "\n",
            "There are 606 images of normal lungs for validation.\n",
            "\n",
            "There are 600 images of covid pneumonia for validation.\n",
            "\n",
            "There are 604 images of bacterial pneumonia for validation.\n",
            "\n",
            "There are 603 images of viral pneumonia for validation.\n",
            "\n"
          ]
        }
      ],
      "source": [
        "# Define the training and validation base directories\n",
        "train_dir = '/content/drive/My Drive/Capstone1/train'\n",
        "validation_dir = '/content/drive/My Drive/Capstone1/val'\n",
        "\n",
        "# Directory with training normal chest x-ray\n",
        "train_normal_dir = os.path.join(train_dir, 'normal')\n",
        "# Directory with training covid pneumonia chest x-ray\n",
        "train_covid_dir = os.path.join(train_dir,'covid')\n",
        "# Directory with training bacterial pneumonia chest x-ray\n",
        "train_bacterial_dir = os.path.join(train_dir,'bacterial')\n",
        "# Directory with training viral pneumonia chest x-ray\n",
        "train_viral_dir = os.path.join(train_dir,'viral')\n",
        "\n",
        "# Directory with validation normal chest x-ray\n",
        "val_normal_dir = os.path.join(validation_dir, 'normal')\n",
        "# Directory with validation covid pneumonia chest x-ray\n",
        "val_covid_dir = os.path.join(validation_dir, 'covid')\n",
        "# Directory with validation bacterial pneumonia chest x-ray\n",
        "val_bacterial_dir = os.path.join(validation_dir, 'bacterial')\n",
        "# Directory with validation viral pneumonia chest x-ray\n",
        "val_viral_dir = os.path.join(validation_dir, 'viral')\n",
        "\n",
        "# Check the number of images for each class and set\n",
        "print(f\"There are {len(os.listdir(train_normal_dir))} images of normal lungs for training.\\n\")\n",
        "print(f\"There are {len(os.listdir(train_covid_dir))} images of covid pneumonia for training.\\n\")\n",
        "print(f\"There are {len(os.listdir(train_bacterial_dir))} images of bacterial pneumonia for training.\\n\")\n",
        "print(f\"There are {len(os.listdir(train_viral_dir))} images of viral pneumonia for training.\\n\")\n",
        "\n",
        "print(f\"There are {len(os.listdir(val_normal_dir))} images of normal lungs for validation.\\n\")\n",
        "print(f\"There are {len(os.listdir(val_covid_dir))} images of covid pneumonia for validation.\\n\")\n",
        "print(f\"There are {len(os.listdir(val_bacterial_dir))} images of bacterial pneumonia for validation.\\n\")\n",
        "print(f\"There are {len(os.listdir(val_viral_dir))} images of viral pneumonia for validation.\\n\")"
      ]
    },
    {
      "cell_type": "code",
      "execution_count": null,
      "metadata": {
        "colab": {
          "base_uri": "https://localhost:8080/",
          "height": 576
        },
        "id": "zOYqpo3Brwgv",
        "outputId": "12e94b31-ce11-438e-de8b-afe8a74e5c10"
      },
      "outputs": [
        {
          "output_type": "stream",
          "name": "stdout",
          "text": [
            "Sample of normal lungs image:\n"
          ]
        },
        {
          "output_type": "display_data",
          "data": {
            "text/plain": [
              "<Figure size 432x288 with 1 Axes>"
            ],
            "image/png": "[encoded data removed]"
          },
          "metadata": {
            "needs_background": "light"
          }
        },
        {
          "output_type": "stream",
          "name": "stdout",
          "text": [
            "\n",
            "Sample of covid pneumonia image:\n"
          ]
        },
        {
          "output_type": "display_data",
          "data": {
            "text/plain": [
              "<Figure size 432x288 with 1 Axes>"
            ],
            "image/png": "[encoded data removed]"
          },
          "metadata": {
            "needs_background": "light"
          }
        }
      ],
      "source": [
        "print(\"Sample of normal lungs image:\")\n",
        "plt.imshow(load_img(f\"{os.path.join(train_normal_dir, os.listdir(train_normal_dir)[0])}\"))\n",
        "plt.show()\n",
        "\n",
        "print(\"\\nSample of covid pneumonia image:\")\n",
        "plt.imshow(load_img(f\"{os.path.join(train_covid_dir, os.listdir(train_covid_dir)[0])}\"))\n",
        "plt.show()"
      ]
    },
    {
      "cell_type": "code",
      "execution_count": null,
      "metadata": {
        "colab": {
          "base_uri": "https://localhost:8080/"
        },
        "id": "lrvPqQs4sAoZ",
        "outputId": "51028408-eff7-424f-82fa-c37429fedafc"
      },
      "outputs": [
        {
          "output_type": "stream",
          "name": "stdout",
          "text": [
            "Each image has shape: (299, 299, 3)\n"
          ]
        }
      ],
      "source": [
        "# Load the first example of a normal lungs\n",
        "sample_image  = load_img(f\"{os.path.join(train_normal_dir, os.listdir(train_normal_dir)[0])}\")\n",
        "\n",
        "# Convert the image into its numpy array representation\n",
        "sample_array = img_to_array(sample_image)\n",
        "\n",
        "print(f\"Each image has shape: {sample_array.shape}\")"
      ]
    },
    {
      "cell_type": "markdown",
      "source": [
        "### **Data Augmentation**\n",
        "Augment the train and validation data by rescale."
      ],
      "metadata": {
        "id": "Fc73JO6qFRec"
      }
    },
    {
      "cell_type": "code",
      "execution_count": null,
      "metadata": {
        "id": "_pmmqOvcsiR8"
      },
      "outputs": [],
      "source": [
        "# GRADED FUNCTION: train_val_generators\n",
        "def train_val_generators(TRAINING_DIR, VALIDATION_DIR):\n",
        "  ### START CODE HERE\n",
        "\n",
        "  # Instantiate the ImageDataGenerator class\n",
        "  # Don't forget to normalize pixel values and set arguments to augment the images\n",
        "  train_datagen = ImageDataGenerator(rescale = 1./255.,\n",
        "                                  #  rotation_range = 40,\n",
        "                                  #  width_shift_range = 0.2,\n",
        "                                  #  height_shift_range = 0.2,\n",
        "                                  #  shear_range = 0.2,\n",
        "                                  #  zoom_range = 0.2,\n",
        "                                  #  horizontal_flip = True,\n",
        "                                  #  fill_mode='nearest'\n",
        "  )\n",
        "\n",
        "  # Pass in the appropriate arguments to the flow_from_directory method\n",
        "  train_generator = train_datagen.flow_from_directory(directory=TRAINING_DIR,\n",
        "                                                      batch_size=30,\n",
        "                                                      class_mode='categorical',\n",
        "                                                      target_size=(299, 299))\n",
        "\n",
        "  # Instantiate the ImageDataGenerator class (don't forget to set the rescale argument)\n",
        "  # Remember that validation data should not be augmented\n",
        "  validation_datagen = ImageDataGenerator( rescale = 1.0/255. )\n",
        "\n",
        "  # Pass in the appropriate arguments to the flow_from_directory method\n",
        "  validation_generator = validation_datagen.flow_from_directory(directory=VALIDATION_DIR,\n",
        "                                                                batch_size=30,\n",
        "                                                                class_mode='categorical',\n",
        "                                                                target_size=(299, 299))\n",
        "  ### END CODE HERE\n",
        "  return train_generator, validation_generator"
      ]
    },
    {
      "cell_type": "markdown",
      "source": [
        "### **Initiate Train and Validation Generator**"
      ],
      "metadata": {
        "id": "NahJKT60FvyE"
      }
    },
    {
      "cell_type": "code",
      "execution_count": null,
      "metadata": {
        "colab": {
          "base_uri": "https://localhost:8080/"
        },
        "id": "1-moKPytsrjG",
        "outputId": "fc26c0b0-0fed-49de-9d35-8a19a116d90c"
      },
      "outputs": [
        {
          "output_type": "stream",
          "name": "stdout",
          "text": [
            "Found 9646 images belonging to 4 classes.\n",
            "Found 2413 images belonging to 4 classes.\n"
          ]
        }
      ],
      "source": [
        "# Test your generators\n",
        "train_generator, validation_generator = train_val_generators(train_dir, validation_dir)"
      ]
    },
    {
      "cell_type": "markdown",
      "source": [
        "### **Callback Function**"
      ],
      "metadata": {
        "id": "LVjEiHJMF1Yh"
      }
    },
    {
      "cell_type": "code",
      "execution_count": null,
      "metadata": {
        "id": "XGw4PR2FviO5"
      },
      "outputs": [],
      "source": [
        "# Define a Callback class that stops training once accuracy reaches 99.9%\n",
        "class myCallback(tf.keras.callbacks.Callback):\n",
        "  def on_epoch_end(self, epoch, logs={}):\n",
        "    if(logs.get('accuracy')>0.98):\n",
        "      print(\"\\nReached 98% accuracy so cancelling training!\")\n",
        "      self.model.stop_training = True"
      ]
    },
    {
      "cell_type": "markdown",
      "source": [
        "### **The Model**\n",
        "The model is built with combination of CNN layers, MaxPooling2D layers, Flatten, Dropout, and Dense layers."
      ],
      "metadata": {
        "id": "nyl_tOsfF7Mo"
      }
    },
    {
      "cell_type": "code",
      "source": [
        "model = tf.keras.Sequential([\n",
        "      tf.keras.layers.Conv2D(128, (3,3), activation='relu', input_shape=(299, 299, 3)),\n",
        "      tf.keras.layers.MaxPooling2D(),\n",
        "      tf.keras.layers.Conv2D(256, (3,3), activation='relu'),\n",
        "      tf.keras.layers.MaxPooling2D(),\n",
        "      tf.keras.layers.Conv2D(512, (3,3), activation='relu'),\n",
        "      tf.keras.layers.MaxPooling2D(),\n",
        "      tf.keras.layers.Conv2D(1024, (3,3), activation='relu'),\n",
        "      tf.keras.layers.Flatten(),\n",
        "      tf.keras.layers.Dropout(0.7),\n",
        "      tf.keras.layers.Dense(80, activation='relu'),\n",
        "      tf.keras.layers.Dense(4, kernel_regularizer='l1_l2', activation='softmax')])"
      ],
      "metadata": {
        "id": "VP0JrwBVsBim"
      },
      "execution_count": null,
      "outputs": []
    },
    {
      "cell_type": "code",
      "source": [
        "model.summary()"
      ],
      "metadata": {
        "colab": {
          "base_uri": "https://localhost:8080/"
        },
        "id": "EbxvGskA7KQ_",
        "outputId": "f4ff98ab-6cc5-4dbe-9d12-9cf67e9fa4fd"
      },
      "execution_count": null,
      "outputs": [
        {
          "output_type": "stream",
          "name": "stdout",
          "text": [
            "Model: \"sequential_2\"\n",
            "_________________________________________________________________\n",
            " Layer (type)                Output Shape              Param #   \n",
            "=================================================================\n",
            " conv2d_8 (Conv2D)           (None, 297, 297, 128)     3584      \n",
            "                                                                 \n",
            " max_pooling2d_6 (MaxPooling  (None, 148, 148, 128)    0         \n",
            " 2D)                                                             \n",
            "                                                                 \n",
            " conv2d_9 (Conv2D)           (None, 146, 146, 256)     295168    \n",
            "                                                                 \n",
            " max_pooling2d_7 (MaxPooling  (None, 73, 73, 256)      0         \n",
            " 2D)                                                             \n",
            "                                                                 \n",
            " conv2d_10 (Conv2D)          (None, 71, 71, 512)       1180160   \n",
            "                                                                 \n",
            " max_pooling2d_8 (MaxPooling  (None, 35, 35, 512)      0         \n",
            " 2D)                                                             \n",
            "                                                                 \n",
            " conv2d_11 (Conv2D)          (None, 33, 33, 1024)      4719616   \n",
            "                                                                 \n",
            " flatten_2 (Flatten)         (None, 1115136)           0         \n",
            "                                                                 \n",
            " dropout_2 (Dropout)         (None, 1115136)           0         \n",
            "                                                                 \n",
            " dense_4 (Dense)             (None, 80)                89210960  \n",
            "                                                                 \n",
            " dense_5 (Dense)             (None, 4)                 324       \n",
            "                                                                 \n",
            "=================================================================\n",
            "Total params: 95,409,812\n",
            "Trainable params: 95,409,812\n",
            "Non-trainable params: 0\n",
            "_________________________________________________________________\n"
          ]
        }
      ]
    },
    {
      "cell_type": "code",
      "source": [
        "# Compiling model\n",
        "model.compile(optimizer = tf.keras.optimizers.Adam(learning_rate=0.0004),\n",
        "              loss = 'categorical_crossentropy',\n",
        "              metrics = ['accuracy'])"
      ],
      "metadata": {
        "id": "rYv2-vius4Cq"
      },
      "execution_count": null,
      "outputs": []
    },
    {
      "cell_type": "code",
      "source": [
        "# Training the Model\n",
        "callbacks = myCallback()\n",
        "history = model.fit(train_generator,\n",
        "                    validation_data = validation_generator,\n",
        "                    epochs = 20,\n",
        "                    callbacks=callbacks)"
      ],
      "metadata": {
        "colab": {
          "base_uri": "https://localhost:8080/"
        },
        "id": "6yMzCd4otSkb",
        "outputId": "e9179561-30cd-42c9-d4ca-c988c49b6743"
      },
      "execution_count": null,
      "outputs": [
        {
          "output_type": "stream",
          "name": "stdout",
          "text": [
            "Epoch 1/20\n",
            "322/322 [==============================] - 198s 612ms/step - loss: 1.0757 - accuracy: 0.7191 - val_loss: 0.7415 - val_accuracy: 0.8106\n",
            "Epoch 2/20\n",
            "322/322 [==============================] - 195s 605ms/step - loss: 0.6323 - accuracy: 0.8293 - val_loss: 0.5096 - val_accuracy: 0.8492\n",
            "Epoch 3/20\n",
            "322/322 [==============================] - 193s 600ms/step - loss: 0.4791 - accuracy: 0.8598 - val_loss: 0.4594 - val_accuracy: 0.8512\n",
            "Epoch 4/20\n",
            "322/322 [==============================] - 194s 601ms/step - loss: 0.4026 - accuracy: 0.8734 - val_loss: 0.4680 - val_accuracy: 0.8272\n",
            "Epoch 5/20\n",
            "322/322 [==============================] - 194s 601ms/step - loss: 0.3443 - accuracy: 0.8937 - val_loss: 0.3996 - val_accuracy: 0.8761\n",
            "Epoch 6/20\n",
            "322/322 [==============================] - 193s 600ms/step - loss: 0.2915 - accuracy: 0.9087 - val_loss: 0.3585 - val_accuracy: 0.8856\n",
            "Epoch 7/20\n",
            "322/322 [==============================] - 193s 597ms/step - loss: 0.2487 - accuracy: 0.9277 - val_loss: 0.3737 - val_accuracy: 0.8753\n",
            "Epoch 8/20\n",
            "322/322 [==============================] - 193s 599ms/step - loss: 0.2077 - accuracy: 0.9415 - val_loss: 0.3343 - val_accuracy: 0.9034\n",
            "Epoch 9/20\n",
            "322/322 [==============================] - 193s 598ms/step - loss: 0.1753 - accuracy: 0.9545 - val_loss: 0.3644 - val_accuracy: 0.8989\n",
            "Epoch 10/20\n",
            "322/322 [==============================] - 193s 599ms/step - loss: 0.1518 - accuracy: 0.9631 - val_loss: 0.3441 - val_accuracy: 0.9030\n",
            "Epoch 11/20\n",
            "322/322 [==============================] - 193s 598ms/step - loss: 0.1288 - accuracy: 0.9714 - val_loss: 0.3445 - val_accuracy: 0.9134\n",
            "Epoch 12/20\n",
            "322/322 [==============================] - 193s 598ms/step - loss: 0.1091 - accuracy: 0.9778 - val_loss: 0.3936 - val_accuracy: 0.9109\n",
            "Epoch 13/20\n",
            "322/322 [==============================] - 193s 599ms/step - loss: 0.1091 - accuracy: 0.9759 - val_loss: 0.3473 - val_accuracy: 0.9167\n",
            "Epoch 14/20\n",
            "322/322 [==============================] - ETA: 0s - loss: 0.0884 - accuracy: 0.9841\n",
            "Reached 98% accuracy so cancelling training!\n",
            "322/322 [==============================] - 193s 599ms/step - loss: 0.0884 - accuracy: 0.9841 - val_loss: 0.4173 - val_accuracy: 0.9051\n"
          ]
        }
      ]
    },
    {
      "cell_type": "code",
      "source": [
        "# Plot the chart for accuracy and loss on both training and validation\n",
        "acc = history.history['accuracy']\n",
        "val_acc = history.history['val_accuracy']\n",
        "loss = history.history['loss']\n",
        "val_loss = history.history['val_loss']\n",
        "\n",
        "epochs = range(len(acc))\n",
        "\n",
        "plt.plot(epochs, acc, 'r', label='Training accuracy')\n",
        "plt.plot(epochs, val_acc, 'b', label='Validation accuracy')\n",
        "plt.title('Training and validation accuracy')\n",
        "plt.legend()\n",
        "plt.figure()\n",
        "\n",
        "plt.plot(epochs, loss, 'r', label='Training Loss')\n",
        "plt.plot(epochs, val_loss, 'b', label='Validation Loss')\n",
        "plt.title('Training and validation loss')\n",
        "plt.legend()\n",
        "\n",
        "plt.show()"
      ],
      "metadata": {
        "colab": {
          "base_uri": "https://localhost:8080/",
          "height": 545
        },
        "id": "gkDLk9OPvqrP",
        "outputId": "0b97d6a5-1d64-4552-bab3-5738a0b0fd4b"
      },
      "execution_count": null,
      "outputs": [
        {
          "output_type": "display_data",
          "data": {
            "text/plain": [
              "<Figure size 432x288 with 1 Axes>"
            ],
            "image/png": "[encoded data removed]"
          },
          "metadata": {
            "needs_background": "light"
          }
        },
        {
          "output_type": "display_data",
          "data": {
            "text/plain": [
              "<Figure size 432x288 with 1 Axes>"
            ],
            "image/png": "[encoded data removed]"
          },
          "metadata": {
            "needs_background": "light"
          }
        }
      ]
    },
    {
      "cell_type": "markdown",
      "source": [
        "## **Save and Convert The Model**\n",
        "Save the model into keras model (.h5) format, then convert it to tflite format."
      ],
      "metadata": {
        "id": "Bke0dn7gGyZo"
      }
    },
    {
      "cell_type": "code",
      "source": [
        "\n",
        "model.save('model.h5')\n",
        "model = tf.keras.models.load_model('model.h5')\n",
        "converter = tf.lite.TFLiteConverter.from_keras_model(model)\n",
        "tflmodel = converter.convert()\n",
        "file = open('converted_model7.tflite' , 'wb')\n",
        "file.write(tflmodel)"
      ],
      "metadata": {
        "id": "opxfwZiy0KAc",
        "colab": {
          "base_uri": "https://localhost:8080/"
        },
        "outputId": "db2803a9-e6ea-4e06-f8ea-e5e3244b255a"
      },
      "execution_count": null,
      "outputs": [
        {
          "output_type": "stream",
          "name": "stdout",
          "text": [
            "INFO:tensorflow:Assets written to: /tmp/tmp1n6uj8og/assets\n"
          ]
        },
        {
          "output_type": "stream",
          "name": "stderr",
          "text": [
            "WARNING:absl:Buffer deduplication procedure will be skipped when flatbuffer library is not properly loaded\n"
          ]
        },
        {
          "output_type": "execute_result",
          "data": {
            "text/plain": [
              "381643360"
            ]
          },
          "metadata": {},
          "execution_count": 23
        }
      ]
    },
    {
      "cell_type": "markdown",
      "source": [
        "Save the model into saved_model format, then convert it to tflite format."
      ],
      "metadata": {
        "id": "jrbZS_x8HDQ4"
      }
    },
    {
      "cell_type": "code",
      "source": [
        "export_dir = 'saved_model/1'\n",
        "\n",
        "tf.saved_model.save(model, export_dir)"
      ],
      "metadata": {
        "colab": {
          "base_uri": "https://localhost:8080/"
        },
        "id": "_cG3EMkoip7e",
        "outputId": "d0e50608-ce5e-4f8f-d3cd-54c52fbcd150"
      },
      "execution_count": null,
      "outputs": [
        {
          "output_type": "stream",
          "name": "stdout",
          "text": [
            "INFO:tensorflow:Assets written to: saved_model/1/assets\n"
          ]
        },
        {
          "output_type": "stream",
          "name": "stderr",
          "text": [
            "INFO:tensorflow:Assets written to: saved_model/1/assets\n"
          ]
        }
      ]
    },
    {
      "cell_type": "code",
      "source": [
        "# Select mode of optimization\n",
        "mode = \"Speed\"\n",
        "\n",
        "if mode == 'Storage':\n",
        "    optimization = tf.lite.Optimize.OPTIMIZE_FOR_SIZE\n",
        "elif mode == 'Speed':\n",
        "    optimization = tf.lite.Optimize.OPTIMIZE_FOR_LATENCY\n",
        "else:\n",
        "    optimization = tf.lite.Optimize.DEFAULT"
      ],
      "metadata": {
        "id": "mb50gPcLi4JC"
      },
      "execution_count": null,
      "outputs": []
    },
    {
      "cell_type": "code",
      "source": [
        "# EXERCISE: Use the TFLiteConverter SavedModel API to initialize the converter\n",
        "\n",
        "converter = tf.lite.TFLiteConverter.from_saved_model(export_dir)\n",
        "\n",
        "# Set the optimzations\n",
        "converter.optimizations = [optimization]\n",
        "\n",
        "# Invoke the converter to finally generate the TFLite model\n",
        "tflite_model = converter.convert()"
      ],
      "metadata": {
        "colab": {
          "base_uri": "https://localhost:8080/"
        },
        "id": "_A6x2PCBi3UN",
        "outputId": "4b2f1f15-a3a2-4416-b596-fdc63d64ae0b"
      },
      "execution_count": null,
      "outputs": [
        {
          "output_type": "stream",
          "name": "stderr",
          "text": [
            "WARNING:absl:Optimization option OPTIMIZE_FOR_LATENCY is deprecated, please use optimizations=[Optimize.DEFAULT] instead.\n",
            "WARNING:absl:Optimization option OPTIMIZE_FOR_LATENCY is deprecated, please use optimizations=[Optimize.DEFAULT] instead.\n",
            "WARNING:absl:Optimization option OPTIMIZE_FOR_LATENCY is deprecated, please use optimizations=[Optimize.DEFAULT] instead.\n",
            "WARNING:absl:Buffer deduplication procedure will be skipped when flatbuffer library is not properly loaded\n"
          ]
        }
      ]
    },
    {
      "cell_type": "code",
      "source": [
        "tflite_model_file = 'converted_model8.tflite'\n",
        "\n",
        "with open(tflite_model_file, \"wb\") as f:\n",
        "    f.write(tflite_model)"
      ],
      "metadata": {
        "id": "zm1WM2EBi80V"
      },
      "execution_count": null,
      "outputs": []
    },
    {
      "cell_type": "code",
      "source": [
        "model.save_weights('/content/drive/My Drive/Model_Capstone/model_1_dense_80_drop_0.25_reg_l1_l2.h5')"
      ],
      "metadata": {
        "id": "1A_YmasylWFd"
      },
      "execution_count": null,
      "outputs": []
    }
  ],
  "metadata": {
    "accelerator": "GPU",
    "colab": {
      "provenance": []
    },
    "kernelspec": {
      "display_name": "Python 3",
      "name": "python3"
    },
    "language_info": {
      "name": "python"
    }
  },
  "nbformat": 4,
  "nbformat_minor": 0
}